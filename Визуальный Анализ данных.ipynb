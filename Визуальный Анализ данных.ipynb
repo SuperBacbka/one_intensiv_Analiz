{
 "cells": [
  {
   "cell_type": "code",
   "execution_count": 620,
   "id": "912bdc8d-210b-44e6-8df7-c63b1f7f8f26",
   "metadata": {},
   "outputs": [],
   "source": [
    "\n",
    "import numpy as np\n",
    "import pandas as pd\n",
    "import matplotlib.pyplot as plt\n",
    "import seaborn as sns"
   ]
  },
  {
   "cell_type": "code",
   "execution_count": 621,
   "id": "1fed558e-d5e9-4d89-b0e8-bb423c3362e7",
   "metadata": {},
   "outputs": [],
   "source": [
    "#Загрука данных \n",
    "Data = pd.read_csv(\"Parsing_Cian.csv\", sep = ',')"
   ]
  },
  {
   "cell_type": "code",
   "execution_count": 622,
   "id": "c5653ffc-031a-40c4-a203-476c81ef3c6a",
   "metadata": {
    "scrolled": true
   },
   "outputs": [
    {
     "name": "stdout",
     "output_type": "stream",
     "text": [
      "<class 'pandas.core.frame.DataFrame'>\n",
      "RangeIndex: 8393 entries, 0 to 8392\n",
      "Data columns (total 27 columns):\n",
      " #   Column                Non-Null Count  Dtype \n",
      "---  ------                --------------  ----- \n",
      " 0   author                7592 non-null   object\n",
      " 1   author_type           7595 non-null   object\n",
      " 2   url                   7906 non-null   object\n",
      " 3   location              7906 non-null   object\n",
      " 4   deal_type             7906 non-null   object\n",
      " 5   accommodation_type    7906 non-null   object\n",
      " 6   floor                 7906 non-null   object\n",
      " 7   floors_count          7906 non-null   object\n",
      " 8   rooms_count           7906 non-null   object\n",
      " 9   total_meters          7906 non-null   object\n",
      " 10  price                 7893 non-null   object\n",
      " 11  year_of_construction  7906 non-null   object\n",
      " 12  object_type           7906 non-null   object\n",
      " 13  have_loggia           7906 non-null   object\n",
      " 14  parking_type          7906 non-null   object\n",
      " 15  house_material_type   7906 non-null   object\n",
      " 16  heating_type          7906 non-null   object\n",
      " 17  finish_type           7906 non-null   object\n",
      " 18  living_meters         7906 non-null   object\n",
      " 19  kitchen_meters        7906 non-null   object\n",
      " 20  phone                 7906 non-null   object\n",
      " 21  ceiling_height        7906 non-null   object\n",
      " 22  district              3127 non-null   object\n",
      " 23  street                6255 non-null   object\n",
      " 24  house_number          6699 non-null   object\n",
      " 25  underground           5511 non-null   object\n",
      " 26  residential_complex   3971 non-null   object\n",
      "dtypes: object(27)\n",
      "memory usage: 1.7+ MB\n"
     ]
    }
   ],
   "source": [
    "Data.info()"
   ]
  },
  {
   "cell_type": "markdown",
   "id": "17c8432d-d82b-4f92-a2a1-da108b11ff8e",
   "metadata": {},
   "source": [
    "## Обозначение Колонок"
   ]
  },
  {
   "cell_type": "markdown",
   "id": "0bcb0322-2e1c-422c-9253-7e112a1b148a",
   "metadata": {},
   "source": [
    "\n",
    "* url - ссылка\n",
    "* location           - локация объявления (город)\n",
    "* deal_type          - тип объявления (продажа/аренда)\n",
    "* accommodation_type - тип жилья (квартира, дом и т.д.)\n",
    "* floor\t           - этаж квартиры\n",
    "* floors_count\t   - количество этажей\n",
    "* total_meters\t   - площадь квартиры\n",
    "* price\t           - общая стоимость\n",
    "* seller- \tявляется ли продавец агентом\n",
    "* year_of_construction\tгод постройки здания\n",
    "* object_type\tтип жилья (новостройка\\вторичка)\n",
    "* have_loggia\tналичие лоджий\\балконов\n",
    "* house_material_type\tтип дома (монолитный, панельный и т.д.)\n",
    "* heating_type\tтип отопления\n",
    "* finish_type\tотделка\n",
    "* living_meters\tжилая площадь\n",
    "* kitchen_meters\tплощадь кухни\n",
    "* phone\tномер телефона\n",
    "* ceiling_height\tвысота потолка\n",
    "* district\tрайон\n",
    "* street\tулица\n",
    "* house_number\tномер дома\n",
    "* underground\tметро (+ мцд)\n",
    "* residential_complex\tжилой комплекс"
   ]
  },
  {
   "cell_type": "code",
   "execution_count": 625,
   "id": "98e4bd43-5fa6-4fb6-a7ed-e205425ef76d",
   "metadata": {},
   "outputs": [
    {
     "data": {
      "text/html": [
       "<div>\n",
       "<style scoped>\n",
       "    .dataframe tbody tr th:only-of-type {\n",
       "        vertical-align: middle;\n",
       "    }\n",
       "\n",
       "    .dataframe tbody tr th {\n",
       "        vertical-align: top;\n",
       "    }\n",
       "\n",
       "    .dataframe thead th {\n",
       "        text-align: right;\n",
       "    }\n",
       "</style>\n",
       "<table border=\"1\" class=\"dataframe\">\n",
       "  <thead>\n",
       "    <tr style=\"text-align: right;\">\n",
       "      <th></th>\n",
       "      <th>author</th>\n",
       "      <th>author_type</th>\n",
       "      <th>url</th>\n",
       "      <th>location</th>\n",
       "      <th>deal_type</th>\n",
       "      <th>accommodation_type</th>\n",
       "      <th>floor</th>\n",
       "      <th>floors_count</th>\n",
       "      <th>rooms_count</th>\n",
       "      <th>total_meters</th>\n",
       "      <th>...</th>\n",
       "      <th>finish_type</th>\n",
       "      <th>living_meters</th>\n",
       "      <th>kitchen_meters</th>\n",
       "      <th>phone</th>\n",
       "      <th>ceiling_height</th>\n",
       "      <th>district</th>\n",
       "      <th>street</th>\n",
       "      <th>house_number</th>\n",
       "      <th>underground</th>\n",
       "      <th>residential_complex</th>\n",
       "    </tr>\n",
       "  </thead>\n",
       "  <tbody>\n",
       "    <tr>\n",
       "      <th>0</th>\n",
       "      <td>ID 115709096</td>\n",
       "      <td>homeowner</td>\n",
       "      <td>https://serpukhov.cian.ru/sale/flat/301136001/</td>\n",
       "      <td>Серпухов</td>\n",
       "      <td>sale</td>\n",
       "      <td>flat</td>\n",
       "      <td>6</td>\n",
       "      <td>6</td>\n",
       "      <td>1</td>\n",
       "      <td>20.7</td>\n",
       "      <td>...</td>\n",
       "      <td>-1</td>\n",
       "      <td>18 м²</td>\n",
       "      <td>1 м²</td>\n",
       "      <td>79175096253</td>\n",
       "      <td>3 м</td>\n",
       "      <td>Серпухов</td>\n",
       "      <td>Крюкова</td>\n",
       "      <td>4</td>\n",
       "      <td>NaN</td>\n",
       "      <td>NaN</td>\n",
       "    </tr>\n",
       "    <tr>\n",
       "      <th>1</th>\n",
       "      <td>Самолёт плюс Подмосковье Серпухов</td>\n",
       "      <td>real_estate_agent</td>\n",
       "      <td>https://serpukhov.cian.ru/sale/flat/305145433/</td>\n",
       "      <td>Серпухов</td>\n",
       "      <td>sale</td>\n",
       "      <td>flat</td>\n",
       "      <td>1</td>\n",
       "      <td>9</td>\n",
       "      <td>1</td>\n",
       "      <td>33.0</td>\n",
       "      <td>...</td>\n",
       "      <td>-1</td>\n",
       "      <td>18 м²</td>\n",
       "      <td>6 м²</td>\n",
       "      <td>79645530086</td>\n",
       "      <td>2,7 м</td>\n",
       "      <td>NaN</td>\n",
       "      <td>Ворошилова</td>\n",
       "      <td>144</td>\n",
       "      <td>Аннино</td>\n",
       "      <td>NaN</td>\n",
       "    </tr>\n",
       "    <tr>\n",
       "      <th>2</th>\n",
       "      <td>ID 3246838</td>\n",
       "      <td>realtor</td>\n",
       "      <td>https://serpukhov.cian.ru/sale/flat/308145954/</td>\n",
       "      <td>Серпухов</td>\n",
       "      <td>sale</td>\n",
       "      <td>flat</td>\n",
       "      <td>4</td>\n",
       "      <td>4</td>\n",
       "      <td>1</td>\n",
       "      <td>14.0</td>\n",
       "      <td>...</td>\n",
       "      <td>-1</td>\n",
       "      <td>-1</td>\n",
       "      <td>-1</td>\n",
       "      <td>79807126116</td>\n",
       "      <td>-1</td>\n",
       "      <td>Красный Текстильщик мкр</td>\n",
       "      <td>Красный Текстильщик</td>\n",
       "      <td>2</td>\n",
       "      <td>NaN</td>\n",
       "      <td>NaN</td>\n",
       "    </tr>\n",
       "    <tr>\n",
       "      <th>3</th>\n",
       "      <td>ID 64398571</td>\n",
       "      <td>unknown</td>\n",
       "      <td>https://serpukhov.cian.ru/sale/flat/309086009/</td>\n",
       "      <td>Серпухов</td>\n",
       "      <td>sale</td>\n",
       "      <td>flat</td>\n",
       "      <td>5</td>\n",
       "      <td>5</td>\n",
       "      <td>1</td>\n",
       "      <td>17.5</td>\n",
       "      <td>...</td>\n",
       "      <td>-1</td>\n",
       "      <td>-1</td>\n",
       "      <td>-1</td>\n",
       "      <td>79645652380</td>\n",
       "      <td>-1</td>\n",
       "      <td>Серпухов</td>\n",
       "      <td>Российская</td>\n",
       "      <td>40</td>\n",
       "      <td>NaN</td>\n",
       "      <td>NaN</td>\n",
       "    </tr>\n",
       "    <tr>\n",
       "      <th>4</th>\n",
       "      <td>ЛИДЕРМЭЙН</td>\n",
       "      <td>real_estate_agent</td>\n",
       "      <td>https://serpukhov.cian.ru/sale/flat/308401669/</td>\n",
       "      <td>Серпухов</td>\n",
       "      <td>sale</td>\n",
       "      <td>flat</td>\n",
       "      <td>4</td>\n",
       "      <td>7</td>\n",
       "      <td>1</td>\n",
       "      <td>25.9</td>\n",
       "      <td>...</td>\n",
       "      <td>-1</td>\n",
       "      <td>20 м²</td>\n",
       "      <td>5 м²</td>\n",
       "      <td>79099408093</td>\n",
       "      <td>3,5 м</td>\n",
       "      <td>Серпухов</td>\n",
       "      <td>Химиков</td>\n",
       "      <td>8</td>\n",
       "      <td>NaN</td>\n",
       "      <td>NaN</td>\n",
       "    </tr>\n",
       "    <tr>\n",
       "      <th>5</th>\n",
       "      <td>Максим Юсов</td>\n",
       "      <td>real_estate_agent</td>\n",
       "      <td>https://serpukhov.cian.ru/sale/flat/304233768/</td>\n",
       "      <td>Серпухов</td>\n",
       "      <td>sale</td>\n",
       "      <td>flat</td>\n",
       "      <td>2</td>\n",
       "      <td>3</td>\n",
       "      <td>1</td>\n",
       "      <td>46.7</td>\n",
       "      <td>...</td>\n",
       "      <td>-1</td>\n",
       "      <td>25 м²</td>\n",
       "      <td>6 м²</td>\n",
       "      <td>79647820594</td>\n",
       "      <td>-1</td>\n",
       "      <td>Серпухов</td>\n",
       "      <td>2-я Московская</td>\n",
       "      <td>6к3</td>\n",
       "      <td>NaN</td>\n",
       "      <td>NaN</td>\n",
       "    </tr>\n",
       "    <tr>\n",
       "      <th>6</th>\n",
       "      <td>ID 9655060</td>\n",
       "      <td>unknown</td>\n",
       "      <td>https://serpukhov.cian.ru/sale/flat/304697154/</td>\n",
       "      <td>Серпухов</td>\n",
       "      <td>sale</td>\n",
       "      <td>flat</td>\n",
       "      <td>3</td>\n",
       "      <td>5</td>\n",
       "      <td>1</td>\n",
       "      <td>29.0</td>\n",
       "      <td>...</td>\n",
       "      <td>-1</td>\n",
       "      <td>25 м²</td>\n",
       "      <td>-1</td>\n",
       "      <td>79645658245</td>\n",
       "      <td>3 м</td>\n",
       "      <td>Серпухов</td>\n",
       "      <td>Форсса</td>\n",
       "      <td>10</td>\n",
       "      <td>NaN</td>\n",
       "      <td>NaN</td>\n",
       "    </tr>\n",
       "    <tr>\n",
       "      <th>7</th>\n",
       "      <td>Этажи Серпухов</td>\n",
       "      <td>real_estate_agent</td>\n",
       "      <td>https://serpukhov.cian.ru/sale/flat/304332318/</td>\n",
       "      <td>Серпухов</td>\n",
       "      <td>sale</td>\n",
       "      <td>flat</td>\n",
       "      <td>3</td>\n",
       "      <td>6</td>\n",
       "      <td>1</td>\n",
       "      <td>19.1</td>\n",
       "      <td>...</td>\n",
       "      <td>-1</td>\n",
       "      <td>-1</td>\n",
       "      <td>-1</td>\n",
       "      <td>79647821411</td>\n",
       "      <td>-1</td>\n",
       "      <td>Серпухов</td>\n",
       "      <td>Крюкова</td>\n",
       "      <td>4</td>\n",
       "      <td>NaN</td>\n",
       "      <td>NaN</td>\n",
       "    </tr>\n",
       "  </tbody>\n",
       "</table>\n",
       "<p>8 rows × 27 columns</p>\n",
       "</div>"
      ],
      "text/plain": [
       "                              author        author_type  \\\n",
       "0                       ID 115709096          homeowner   \n",
       "1  Самолёт плюс Подмосковье Серпухов  real_estate_agent   \n",
       "2                         ID 3246838            realtor   \n",
       "3                        ID 64398571            unknown   \n",
       "4                          ЛИДЕРМЭЙН  real_estate_agent   \n",
       "5                        Максим Юсов  real_estate_agent   \n",
       "6                         ID 9655060            unknown   \n",
       "7                     Этажи Серпухов  real_estate_agent   \n",
       "\n",
       "                                              url  location deal_type  \\\n",
       "0  https://serpukhov.cian.ru/sale/flat/301136001/  Серпухов      sale   \n",
       "1  https://serpukhov.cian.ru/sale/flat/305145433/  Серпухов      sale   \n",
       "2  https://serpukhov.cian.ru/sale/flat/308145954/  Серпухов      sale   \n",
       "3  https://serpukhov.cian.ru/sale/flat/309086009/  Серпухов      sale   \n",
       "4  https://serpukhov.cian.ru/sale/flat/308401669/  Серпухов      sale   \n",
       "5  https://serpukhov.cian.ru/sale/flat/304233768/  Серпухов      sale   \n",
       "6  https://serpukhov.cian.ru/sale/flat/304697154/  Серпухов      sale   \n",
       "7  https://serpukhov.cian.ru/sale/flat/304332318/  Серпухов      sale   \n",
       "\n",
       "  accommodation_type floor floors_count rooms_count total_meters  ...  \\\n",
       "0               flat     6            6           1         20.7  ...   \n",
       "1               flat     1            9           1         33.0  ...   \n",
       "2               flat     4            4           1         14.0  ...   \n",
       "3               flat     5            5           1         17.5  ...   \n",
       "4               flat     4            7           1         25.9  ...   \n",
       "5               flat     2            3           1         46.7  ...   \n",
       "6               flat     3            5           1         29.0  ...   \n",
       "7               flat     3            6           1         19.1  ...   \n",
       "\n",
       "  finish_type living_meters kitchen_meters        phone ceiling_height  \\\n",
       "0          -1         18 м²           1 м²  79175096253            3 м   \n",
       "1          -1         18 м²           6 м²  79645530086          2,7 м   \n",
       "2          -1            -1             -1  79807126116             -1   \n",
       "3          -1            -1             -1  79645652380             -1   \n",
       "4          -1         20 м²           5 м²  79099408093          3,5 м   \n",
       "5          -1         25 м²           6 м²  79647820594             -1   \n",
       "6          -1         25 м²             -1  79645658245            3 м   \n",
       "7          -1            -1             -1  79647821411             -1   \n",
       "\n",
       "                  district                street house_number underground  \\\n",
       "0                 Серпухов               Крюкова            4         NaN   \n",
       "1                      NaN            Ворошилова          144      Аннино   \n",
       "2  Красный Текстильщик мкр   Красный Текстильщик            2         NaN   \n",
       "3                 Серпухов           Российская            40         NaN   \n",
       "4                 Серпухов               Химиков            8         NaN   \n",
       "5                 Серпухов        2-я Московская          6к3         NaN   \n",
       "6                 Серпухов                Форсса           10         NaN   \n",
       "7                 Серпухов               Крюкова            4         NaN   \n",
       "\n",
       "  residential_complex  \n",
       "0                 NaN  \n",
       "1                 NaN  \n",
       "2                 NaN  \n",
       "3                 NaN  \n",
       "4                 NaN  \n",
       "5                 NaN  \n",
       "6                 NaN  \n",
       "7                 NaN  \n",
       "\n",
       "[8 rows x 27 columns]"
      ]
     },
     "execution_count": 625,
     "metadata": {},
     "output_type": "execute_result"
    }
   ],
   "source": [
    "# Выыедим первые 8 строк \n",
    "Data.head(8)"
   ]
  },
  {
   "cell_type": "code",
   "execution_count": 626,
   "id": "c32a52c3-1199-406e-b8b0-04d85cb1ccb6",
   "metadata": {},
   "outputs": [
    {
     "name": "stdout",
     "output_type": "stream",
     "text": [
      "В Датафрейме Колонок:27  Строк:8393\n"
     ]
    }
   ],
   "source": [
    "show = Data.shape\n",
    "print(f\"В Датафрейме Колонок:{show[1]}  Строк:{show[0]}\")"
   ]
  },
  {
   "cell_type": "markdown",
   "id": "7ed8e701-2c3e-45d8-a614-7f5df4d721ff",
   "metadata": {},
   "source": [
    "### Проанализиурем и определим колонки кторые влияют или могут влиять на цену квартиры"
   ]
  },
  {
   "cell_type": "markdown",
   "id": "52914e7b-b813-4684-8e8b-2f1eb0092e37",
   "metadata": {},
   "source": [
    "Согласно статьи из сайта по поиску, продаже и подборe квартиры ЦИАН \n",
    "https://www.cian.ru/blogs-kakie-faktory-vlijajut-na-rynochnuju-stoimost-kvartiry-273638/\n",
    "на цену могут влиять следующие факторы :"
   ]
  },
  {
   "cell_type": "markdown",
   "id": "089778b1-9651-4c5f-863d-552c7a48fb5e",
   "metadata": {},
   "source": [
    "* Метраж Кухни\n",
    "* Наличие парковки и её тип\n",
    "* Этаж расположения квартиры\n",
    "* Общее количество этажей\n",
    "* Отделка \n",
    "* Новостройка/Вторичка\n",
    "* Год Постройки \n",
    "* Удалённость от Метро\n",
    "* Наличие Балкона \n",
    "\n"
   ]
  },
  {
   "cell_type": "markdown",
   "id": "98beefc7-3fa4-4188-b8ec-b705a860025b",
   "metadata": {},
   "source": [
    "Исходя из времени работы компании на рынке недвижемости и отзовы о работе платформы, можно опираться на их даннын при анализе колонок ."
   ]
  },
  {
   "cell_type": "markdown",
   "id": "ad053f69-ac0e-4f0f-b186-4049a4511ee0",
   "metadata": {},
   "source": [
    "Определим колонки которые могут влиять на цену квартиры "
   ]
  },
  {
   "cell_type": "markdown",
   "id": "4917a290-4e78-426a-8fb3-d2b34ca619a0",
   "metadata": {},
   "source": [
    "Колонки : \n"
   ]
  },
  {
   "cell_type": "markdown",
   "id": "95a886c3-69a5-43a4-9ea7-98e934f40498",
   "metadata": {},
   "source": [
    "* residential_complex - название жилого комплекса , \n",
    "* district            - район, \n",
    "* phone               - Телефон,\n",
    "* street              - Улица\n",
    "* url                 - ссылка.\n",
    "* deal_type           - Тип сделки \n",
    "* accommodation_type  - Тип Размещения\n",
    "* house_number        - Номер Дома \n",
    "* heating_type        - Отопление\n",
    "\n",
    "никак не влияют на цену квартиры, удаляем их "
   ]
  },
  {
   "cell_type": "code",
   "execution_count": 634,
   "id": "f13796ee-28ee-4fb2-a652-a12cefea8ef0",
   "metadata": {
    "scrolled": true
   },
   "outputs": [],
   "source": [
    "#Удаляем ненужные колонки\n",
    "Data_Purified = Data.drop([\"residential_complex\", \"district\", \"phone\", \"street\", \"url\", \"deal_type\", \"accommodation_type\" , \"location\", \"house_number\", \"author\", \"author_type\", \"heating_type\"] , axis = 1)"
   ]
  },
  {
   "cell_type": "code",
   "execution_count": 635,
   "id": "bddba241-c320-4fc6-a5c5-14b153e320d5",
   "metadata": {
    "scrolled": true
   },
   "outputs": [
    {
     "name": "stdout",
     "output_type": "stream",
     "text": [
      "<class 'pandas.core.frame.DataFrame'>\n",
      "RangeIndex: 8393 entries, 0 to 8392\n",
      "Data columns (total 15 columns):\n",
      " #   Column                Non-Null Count  Dtype \n",
      "---  ------                --------------  ----- \n",
      " 0   floor                 7906 non-null   object\n",
      " 1   floors_count          7906 non-null   object\n",
      " 2   rooms_count           7906 non-null   object\n",
      " 3   total_meters          7906 non-null   object\n",
      " 4   price                 7893 non-null   object\n",
      " 5   year_of_construction  7906 non-null   object\n",
      " 6   object_type           7906 non-null   object\n",
      " 7   have_loggia           7906 non-null   object\n",
      " 8   parking_type          7906 non-null   object\n",
      " 9   house_material_type   7906 non-null   object\n",
      " 10  finish_type           7906 non-null   object\n",
      " 11  living_meters         7906 non-null   object\n",
      " 12  kitchen_meters        7906 non-null   object\n",
      " 13  ceiling_height        7906 non-null   object\n",
      " 14  underground           5511 non-null   object\n",
      "dtypes: object(15)\n",
      "memory usage: 983.7+ KB\n"
     ]
    }
   ],
   "source": [
    "Data_Purified.info()"
   ]
  },
  {
   "cell_type": "markdown",
   "id": "f391caaa-85af-40d8-9dae-4423c8b0dd31",
   "metadata": {},
   "source": [
    "## Обработаем Данные \n"
   ]
  },
  {
   "cell_type": "markdown",
   "id": "4f28b678-1d60-4fc5-93af-3b5c7ce538f8",
   "metadata": {},
   "source": [
    "Согласно описанию библеотеки по сбору данных отсутсвующие значения заменялись на '-1' Заменим их на NaN"
   ]
  },
  {
   "cell_type": "code",
   "execution_count": 638,
   "id": "f5bfd60a-3b34-48f9-b880-8f8e43c7f94b",
   "metadata": {},
   "outputs": [],
   "source": [
    "Data_Purified.replace(\"-1\", np.nan, inplace = True) "
   ]
  },
  {
   "cell_type": "markdown",
   "id": "ae9a8f17-12c2-4d7c-a01d-7856b6ab4702",
   "metadata": {},
   "source": [
    "Посмотрим количество нулевых значений и пропусков"
   ]
  },
  {
   "cell_type": "code",
   "execution_count": 640,
   "id": "f514fa1d-9571-4c18-aa31-7675f7804583",
   "metadata": {},
   "outputs": [
    {
     "data": {
      "text/plain": [
       "<Axes: >"
      ]
     },
     "execution_count": 640,
     "metadata": {},
     "output_type": "execute_result"
    },
    {
     "data": {
      "image/png": "[encoded data removed]",
      "text/plain": [
       "<Figure size 1000x500 with 2 Axes>"
      ]
     },
     "metadata": {},
     "output_type": "display_data"
    }
   ],
   "source": [
    "plt.figure(figsize=(10, 5))\n",
    "sns.heatmap(Data_Purified.isnull(),cmap='cividis')"
   ]
  },
  {
   "cell_type": "code",
   "execution_count": 641,
   "id": "0b5dc43b-0aa7-4207-879a-30489db04e86",
   "metadata": {},
   "outputs": [
    {
     "name": "stdout",
     "output_type": "stream",
     "text": [
      "                 Колонки   NaN\n",
      "0                  floor   487\n",
      "1           floors_count   487\n",
      "2            rooms_count   587\n",
      "3           total_meters   487\n",
      "4                  price   500\n",
      "5   year_of_construction  1856\n",
      "6            object_type   487\n",
      "7            have_loggia  3895\n",
      "8           parking_type  3981\n",
      "9    house_material_type  6946\n",
      "10           finish_type  6387\n",
      "11         living_meters  2269\n",
      "12        kitchen_meters  1838\n",
      "13        ceiling_height  3258\n",
      "14           underground  2882\n"
     ]
    }
   ],
   "source": [
    "null_ = Data_Purified.isnull().sum().reset_index()\n",
    "null_.columns = ['Колонки', 'NaN']\n",
    "print(null_)"
   ]
  },
  {
   "cell_type": "raw",
   "id": "2ff9cc06-bd2e-4a26-a4ea-f7080da436eb",
   "metadata": {},
   "source": [
    "В колонках house_material_type и finish_type много пропусков удаляем колонки"
   ]
  },
  {
   "cell_type": "code",
   "execution_count": 642,
   "id": "4809e2e5-323b-44bc-8e33-3fc0a433ac67",
   "metadata": {},
   "outputs": [],
   "source": [
    "Data_Purified.drop([\"house_material_type\", \"finish_type\"], axis = 1 , inplace = True )"
   ]
  },
  {
   "cell_type": "code",
   "execution_count": 643,
   "id": "d1577a3b-48b0-4bda-8a8d-c682873c36d3",
   "metadata": {},
   "outputs": [
    {
     "name": "stdout",
     "output_type": "stream",
     "text": [
      "<class 'pandas.core.frame.DataFrame'>\n",
      "RangeIndex: 8393 entries, 0 to 8392\n",
      "Data columns (total 13 columns):\n",
      " #   Column                Non-Null Count  Dtype \n",
      "---  ------                --------------  ----- \n",
      " 0   floor                 7906 non-null   object\n",
      " 1   floors_count          7906 non-null   object\n",
      " 2   rooms_count           7806 non-null   object\n",
      " 3   total_meters          7906 non-null   object\n",
      " 4   price                 7893 non-null   object\n",
      " 5   year_of_construction  6537 non-null   object\n",
      " 6   object_type           7906 non-null   object\n",
      " 7   have_loggia           4498 non-null   object\n",
      " 8   parking_type          4412 non-null   object\n",
      " 9   living_meters         6124 non-null   object\n",
      " 10  kitchen_meters        6555 non-null   object\n",
      " 11  ceiling_height        5135 non-null   object\n",
      " 12  underground           5511 non-null   object\n",
      "dtypes: object(13)\n",
      "memory usage: 852.5+ KB\n"
     ]
    }
   ],
   "source": [
    "Data_Purified.info()\n"
   ]
  },
  {
   "cell_type": "code",
   "execution_count": 644,
   "id": "839c5068-deea-4fb3-951b-b6d78f8cf27b",
   "metadata": {},
   "outputs": [
    {
     "name": "stdout",
     "output_type": "stream",
     "text": [
      "                 Колонки   NaN\n",
      "0                  floor   487\n",
      "1           floors_count   487\n",
      "2            rooms_count   587\n",
      "3           total_meters   487\n",
      "4                  price   500\n",
      "5   year_of_construction  1856\n",
      "6            object_type   487\n",
      "7            have_loggia  3895\n",
      "8           parking_type  3981\n",
      "9          living_meters  2269\n",
      "10        kitchen_meters  1838\n",
      "11        ceiling_height  3258\n",
      "12           underground  2882\n"
     ]
    }
   ],
   "source": [
    "null_ = Data_Purified.isnull().sum().reset_index()\n",
    "null_.columns = ['Колонки', 'NaN']\n",
    "print(null_)"
   ]
  },
  {
   "cell_type": "code",
   "execution_count": 645,
   "id": "1401cd9a-a990-485d-9ba9-125e72f9ca0a",
   "metadata": {},
   "outputs": [
    {
     "data": {
      "text/plain": [
       "<Axes: >"
      ]
     },
     "execution_count": 645,
     "metadata": {},
     "output_type": "execute_result"
    },
    {
     "data": {
      "image/png": "[encoded data removed]",
      "text/plain": [
       "<Figure size 1000x500 with 2 Axes>"
      ]
     },
     "metadata": {},
     "output_type": "display_data"
    }
   ],
   "source": [
    "plt.figure(figsize=(10, 5))\n",
    "sns.heatmap(Data_Purified.isnull(),cmap='cividis')"
   ]
  },
  {
   "cell_type": "markdown",
   "id": "6d2a42d7-e37e-4632-9f43-4b6261490f6b",
   "metadata": {},
   "source": [
    "## Обработка Данных "
   ]
  },
  {
   "cell_type": "markdown",
   "id": "514abbe1-529d-4879-9785-56d71bf0b8ac",
   "metadata": {},
   "source": [
    "Data_Purified.info()"
   ]
  },
  {
   "cell_type": "markdown",
   "id": "59153c0e-a729-4f3b-a2db-84be8cdfa32b",
   "metadata": {},
   "source": [
    "Посмотрим колонки которые должны иметь числовые значения "
   ]
  },
  {
   "cell_type": "markdown",
   "id": "ea5bd161-f74f-467c-9479-3585cd810e6f",
   "metadata": {},
   "source": [
    "* floor-\n",
    "* floors_count\n",
    "* rooms_count\n",
    "* total_meters\n",
    "* price\n",
    "* kitchen_meters\n",
    "* ceiling_height\n",
    "* living_meters\n",
    "* year_of_construction  "
   ]
  },
  {
   "cell_type": "code",
   "execution_count": 650,
   "id": "bb9a5b68-10f9-465a-b5e6-49af54e67329",
   "metadata": {},
   "outputs": [
    {
     "data": {
      "text/plain": [
       "array(['6', '1', '4', '5', '2', '3', '15', '8', '7', '9', '18', '13',\n",
       "       '10', '11', '35', '22', '12', '20', '14', '19', '37', '24', '28',\n",
       "       '17', '34', '16', '40', '21', '41', '30', '33', '29', '23', '25',\n",
       "       '26', '75', '62', '31', '46', '48', '80', '53', '38', '27', '57',\n",
       "       '59', '32', '36', '47', '82', nan, '39', '79', 'floor', '66', '60',\n",
       "       '51'], dtype=object)"
      ]
     },
     "execution_count": 650,
     "metadata": {},
     "output_type": "execute_result"
    }
   ],
   "source": [
    "Data_Purified[\"floor\"].unique()"
   ]
  },
  {
   "cell_type": "markdown",
   "id": "6e0db183-5eab-475a-9e63-9d02a9178f0f",
   "metadata": {
    "scrolled": true
   },
   "source": [
    "### Столбец имеет значемние анамалиюю floor обработаем и удалим его "
   ]
  },
  {
   "cell_type": "code",
   "execution_count": 652,
   "id": "51f8c842-d0a5-40f4-8e5c-69bba94631f3",
   "metadata": {},
   "outputs": [],
   "source": [
    "index = Data_Purified[Data_Purified[\"floor\"] == \"floor\"].index"
   ]
  },
  {
   "cell_type": "code",
   "execution_count": 653,
   "id": "89d957b3-c53a-4d81-980d-df6261b82c89",
   "metadata": {},
   "outputs": [],
   "source": [
    "Data_Purified.drop(index , inplace=True ) "
   ]
  },
  {
   "cell_type": "markdown",
   "id": "9a882f8c-541d-44b7-b255-49321d49e71c",
   "metadata": {},
   "source": [
    " "
   ]
  },
  {
   "cell_type": "markdown",
   "id": "8a9df40c-0678-49d2-8c98-954aeba8c670",
   "metadata": {},
   "source": [
    " "
   ]
  },
  {
   "cell_type": "code",
   "execution_count": 656,
   "id": "19c762a1-d08d-4ba6-8389-55d274dc5367",
   "metadata": {},
   "outputs": [
    {
     "data": {
      "text/plain": [
       "array(['6', '9', '4', '5', '7', '3', '2', '17', '10', '24', '1', '14',\n",
       "       '18', '12', '23', '20', '41', '21', '43', '8', '59', '40', '27',\n",
       "       '15', '13', '16', '22', '29', '25', '30', '49', '31', '39', '53',\n",
       "       '28', '85', '35', '26', '32', '34', '57', '19', '11', '36', '68',\n",
       "       '38', '51', '78', '79', '47', '33', '64', '75', '45', '37', '63',\n",
       "       '95', '52', '54', '77', '46', '44', '67', '50', '48', '76', '42',\n",
       "       '55', '56', nan, '97', '65', '66'], dtype=object)"
      ]
     },
     "execution_count": 656,
     "metadata": {},
     "output_type": "execute_result"
    }
   ],
   "source": [
    "Data_Purified[\"floors_count\"].unique()"
   ]
  },
  {
   "cell_type": "markdown",
   "id": "c05b9780-e175-4e11-8c73-6d57730c9bd8",
   "metadata": {},
   "source": [
    "\n",
    "\n",
    " "
   ]
  },
  {
   "cell_type": "markdown",
   "id": "512bf867-356a-48f1-a8c8-079cbd9e6ae8",
   "metadata": {},
   "source": [
    " "
   ]
  },
  {
   "cell_type": "markdown",
   "id": "b8ec3bee-d8d2-49f4-88a9-ee0f084f5a21",
   "metadata": {},
   "source": [
    " "
   ]
  },
  {
   "cell_type": "code",
   "execution_count": 660,
   "id": "8ded18db-52ce-43e3-ba64-d9d3fcfc71af",
   "metadata": {},
   "outputs": [],
   "source": [
    "Data_Purified[\"floors_count\"] = Data_Purified[\"floors_count\"].astype(float)"
   ]
  },
  {
   "cell_type": "code",
   "execution_count": 661,
   "id": "37a49a07-0626-4fcb-9d7b-dfd1bcb46599",
   "metadata": {},
   "outputs": [
    {
     "data": {
      "text/plain": [
       "0        6.0\n",
       "1        9.0\n",
       "2        4.0\n",
       "3        5.0\n",
       "4        7.0\n",
       "        ... \n",
       "8388    14.0\n",
       "8389    25.0\n",
       "8390     5.0\n",
       "8391     6.0\n",
       "8392    16.0\n",
       "Name: floors_count, Length: 8392, dtype: float64"
      ]
     },
     "execution_count": 661,
     "metadata": {},
     "output_type": "execute_result"
    }
   ],
   "source": [
    "Data_Purified[\"floors_count\"]"
   ]
  },
  {
   "cell_type": "code",
   "execution_count": 662,
   "id": "ae81becf-6f47-4c6e-873e-9200b04cb0b1",
   "metadata": {},
   "outputs": [
    {
     "data": {
      "text/plain": [
       "array(['1', '2', nan, '3', '4', '5'], dtype=object)"
      ]
     },
     "execution_count": 662,
     "metadata": {},
     "output_type": "execute_result"
    }
   ],
   "source": [
    "Data_Purified[\"rooms_count\"].unique()"
   ]
  },
  {
   "cell_type": "code",
   "execution_count": 663,
   "id": "a0a44612-3e11-41d9-9ee2-a11dba6a7e8b",
   "metadata": {},
   "outputs": [],
   "source": [
    "Data_Purified[\"rooms_count\"] = Data_Purified[\"rooms_count\"].astype(float)"
   ]
  },
  {
   "cell_type": "code",
   "execution_count": 664,
   "id": "6c98b6e6-c466-461a-a471-b43e4f8f58c4",
   "metadata": {},
   "outputs": [
    {
     "data": {
      "text/plain": [
       "0       1.0\n",
       "1       1.0\n",
       "2       1.0\n",
       "3       1.0\n",
       "4       1.0\n",
       "       ... \n",
       "8388    2.0\n",
       "8389    2.0\n",
       "8390    2.0\n",
       "8391    2.0\n",
       "8392    2.0\n",
       "Name: rooms_count, Length: 8392, dtype: float64"
      ]
     },
     "execution_count": 664,
     "metadata": {},
     "output_type": "execute_result"
    }
   ],
   "source": [
    "Data_Purified[\"rooms_count\"] "
   ]
  },
  {
   "cell_type": "code",
   "execution_count": 665,
   "id": "baf6fbd9-c500-4047-a85c-df8225bba654",
   "metadata": {},
   "outputs": [
    {
     "data": {
      "text/plain": [
       "array(['20.7', '33.0', '14.0', ..., '30.47', '36.79', '48.39'],\n",
       "      dtype=object)"
      ]
     },
     "execution_count": 665,
     "metadata": {},
     "output_type": "execute_result"
    }
   ],
   "source": [
    "Data_Purified[\"total_meters\"].unique()"
   ]
  },
  {
   "cell_type": "code",
   "execution_count": 666,
   "id": "638aff82-aed9-4e87-9d8d-3bedad1d23df",
   "metadata": {},
   "outputs": [],
   "source": [
    "Data_Purified[\"total_meters\"] = Data_Purified[\"total_meters\"].astype(float)"
   ]
  },
  {
   "cell_type": "code",
   "execution_count": 667,
   "id": "94dd1d25-2396-49e7-98b8-4106a1b400b8",
   "metadata": {},
   "outputs": [
    {
     "data": {
      "text/plain": [
       "0       20.7\n",
       "1       33.0\n",
       "2       14.0\n",
       "3       17.5\n",
       "4       25.9\n",
       "        ... \n",
       "8388    69.7\n",
       "8389    48.1\n",
       "8390    45.0\n",
       "8391    34.0\n",
       "8392    58.6\n",
       "Name: total_meters, Length: 8392, dtype: float64"
      ]
     },
     "execution_count": 667,
     "metadata": {},
     "output_type": "execute_result"
    }
   ],
   "source": [
    "Data_Purified[\"total_meters\"]"
   ]
  },
  {
   "cell_type": "code",
   "execution_count": 668,
   "id": "41f506dc-c853-4bf6-b242-0a7803077c05",
   "metadata": {},
   "outputs": [
    {
     "data": {
      "text/plain": [
       "array(['2350000', '4150000', '1700000', ..., '9865233', '8607014',\n",
       "       '13014356'], dtype=object)"
      ]
     },
     "execution_count": 668,
     "metadata": {},
     "output_type": "execute_result"
    }
   ],
   "source": [
    "Data_Purified[\"price\"].unique()"
   ]
  },
  {
   "cell_type": "code",
   "execution_count": 669,
   "id": "2caaff60-1ec2-4fcc-b715-d686e4707b3e",
   "metadata": {},
   "outputs": [],
   "source": [
    "Data_Purified[\"price\"] = Data_Purified[\"price\"].astype(float)"
   ]
  },
  {
   "cell_type": "code",
   "execution_count": 670,
   "id": "839704bf-fcd9-40e7-ab07-e200050aa5ce",
   "metadata": {
    "scrolled": true
   },
   "outputs": [
    {
     "data": {
      "text/plain": [
       "array(['1\\xa0м²', '6\\xa0м²', nan, '5\\xa0м²', '5,6\\xa0м²', '16\\xa0м²',\n",
       "       '3\\xa0м²', '6,2\\xa0м²', '7\\xa0м²', '7,3\\xa0м²', '6,1\\xa0м²',\n",
       "       '10\\xa0м²', '9\\xa0м²', '8\\xa0м²', '5,7\\xa0м²', '11\\xa0м²',\n",
       "       '7,5\\xa0м²', '13,5\\xa0м²', '6,5\\xa0м²', '5,8\\xa0м²', '20\\xa0м²',\n",
       "       '11,2\\xa0м²', '7,8\\xa0м²', '4\\xa0м²', '7,9\\xa0м²', '4,1\\xa0м²',\n",
       "       '12\\xa0м²', '7,7\\xa0м²', '8,1\\xa0м²', '9,3\\xa0м²', '10,2\\xa0м²',\n",
       "       '10,6\\xa0м²', '8,5\\xa0м²', '9,1\\xa0м²', '4,5\\xa0м²', '6,7\\xa0м²',\n",
       "       '45\\xa0м²', '34,3\\xa0м²', '25,5\\xa0м²', '46,2\\xa0м²', '4,9\\xa0м²',\n",
       "       '8,4\\xa0м²', '24,9\\xa0м²', '15\\xa0м²', '15,8\\xa0м²', '11,5\\xa0м²',\n",
       "       '5,5\\xa0м²', '10,7\\xa0м²', '19,4\\xa0м²', '43,8\\xa0м²',\n",
       "       '44,5\\xa0м²', '22,4\\xa0м²', '25\\xa0м²', '28,4\\xa0м²', '19\\xa0м²',\n",
       "       '21\\xa0м²', '5,1\\xa0м²', '18,3\\xa0м²', '3,8\\xa0м²', '19,2\\xa0м²',\n",
       "       '16,2\\xa0м²', '21,7\\xa0м²', '12,5\\xa0м²', '15,4\\xa0м²', '28\\xa0м²',\n",
       "       '17\\xa0м²', '10,4\\xa0м²', '13,6\\xa0м²', '21,8\\xa0м²', '14\\xa0м²',\n",
       "       '12,9\\xa0м²', '13\\xa0м²', '29,2\\xa0м²', '23\\xa0м²', '15,7\\xa0м²',\n",
       "       '2,9\\xa0м²', '8,2\\xa0м²', '2,4\\xa0м²', '20,7\\xa0м²', '4,3\\xa0м²',\n",
       "       '18\\xa0м²', '21,3\\xa0м²', '11,6\\xa0м²', '16,8\\xa0м²', '3,9\\xa0м²',\n",
       "       '9,9\\xa0м²', '19,3\\xa0м²', '11,3\\xa0м²', '14,8\\xa0м²',\n",
       "       '17,1\\xa0м²', '21,4\\xa0м²', '8,9\\xa0м²', '18,2\\xa0м²',\n",
       "       '13,4\\xa0м²', '16,4\\xa0м²', '16,5\\xa0м²', '8,7\\xa0м²', '9,8\\xa0м²',\n",
       "       '10,8\\xa0м²', '18,5\\xa0м²', '16,1\\xa0м²', '13,2\\xa0м²',\n",
       "       '8,6\\xa0м²', '4,8\\xa0м²', '9,5\\xa0м²', '6,3\\xa0м²', '3,5\\xa0м²',\n",
       "       '43\\xa0м²', '65\\xa0м²', '9,2\\xa0м²', '12,7\\xa0м²', '10,1\\xa0м²',\n",
       "       '7,1\\xa0м²', '12,8\\xa0м²', '10,5\\xa0м²', '25,6\\xa0м²', '6,4\\xa0м²',\n",
       "       '7,2\\xa0м²', '9,7\\xa0м²', '15,2\\xa0м²', '7,6\\xa0м²', '9,6\\xa0м²',\n",
       "       '3,2\\xa0м²', '7,4\\xa0м²', '5,2\\xa0м²', '6,6\\xa0м²', '2\\xa0м²',\n",
       "       '2,5\\xa0м²', '3,6\\xa0м²', '5,4\\xa0м²', '3,3\\xa0м²', '4,4\\xa0м²',\n",
       "       '16,6\\xa0м²', '24\\xa0м²', '15,6\\xa0м²', '19,9\\xa0м²', '28,7\\xa0м²',\n",
       "       '15,3\\xa0м²', '22\\xa0м²', '16,7\\xa0м²', '11,9\\xa0м²', '12,4\\xa0м²',\n",
       "       '23,9\\xa0м²', '14,3\\xa0м²', '8,8\\xa0м²', '4,2\\xa0м²', '22,3\\xa0м²',\n",
       "       '15,5\\xa0м²', '21,5\\xa0м²', '25,1\\xa0м²', '10,3\\xa0м²',\n",
       "       '22,1\\xa0м²', '30\\xa0м²', '11,7\\xa0м²', '16,9\\xa0м²', '13,3\\xa0м²',\n",
       "       '9,4\\xa0м²', '32,8\\xa0м²', '17,4\\xa0м²', '49,2\\xa0м²',\n",
       "       '11,1\\xa0м²', '17,8\\xa0м²', '12,6\\xa0м²', '26\\xa0м²', '8,3\\xa0м²',\n",
       "       '12,2\\xa0м²', '12,3\\xa0м²', '27\\xa0м²', '13,8\\xa0м²', '17,7\\xa0м²',\n",
       "       '14,6\\xa0м²', '31\\xa0м²', '18,7\\xa0м²', '29,7\\xa0м²', '17,2\\xa0м²',\n",
       "       '17,9\\xa0м²', '5,3\\xa0м²', '27,8\\xa0м²', '11,8\\xa0м²',\n",
       "       '22,5\\xa0м²', '27,4\\xa0м²', '14,7\\xa0м²', '6,8\\xa0м²',\n",
       "       '10,9\\xa0м²', '27,6\\xa0м²', '38\\xa0м²', '14,2\\xa0м²', '36,2\\xa0м²',\n",
       "       '27,1\\xa0м²', '29,8\\xa0м²', '14,1\\xa0м²', '33,4\\xa0м²',\n",
       "       '51,4\\xa0м²', '5,9\\xa0м²', '26,1\\xa0м²', '16,3\\xa0м²', '50\\xa0м²',\n",
       "       '23,6\\xa0м²', '28,1\\xa0м²', '74\\xa0м²', '56,4\\xa0м²', '18,4\\xa0м²',\n",
       "       '53,7\\xa0м²', '35,4\\xa0м²', '3,7\\xa0м²', '20,1\\xa0м²',\n",
       "       '11,4\\xa0м²', '20,3\\xa0м²', '22,2\\xa0м²', '22,9\\xa0м²',\n",
       "       '18,1\\xa0м²', '15,9\\xa0м²', '14,4\\xa0м²', '17,5\\xa0м²',\n",
       "       '12,1\\xa0м²', '14,5\\xa0м²', '3,4\\xa0м²', '6,9\\xa0м²', '33\\xa0м²',\n",
       "       '13,1\\xa0м²', '34\\xa0м²', '35\\xa0м²', '26,6\\xa0м²', '23,4\\xa0м²',\n",
       "       '15,1\\xa0м²', '19,8\\xa0м²', '19,6\\xa0м²', '24,4\\xa0м²',\n",
       "       '4,7\\xa0м²', '25,7\\xa0м²', '21,6\\xa0м²', '23,2\\xa0м²',\n",
       "       '28,6\\xa0м²', '23,1\\xa0м²', '19,5\\xa0м²', '13,7\\xa0м²',\n",
       "       '18,6\\xa0м²', '17,3\\xa0м²', '18,8\\xa0м²', '30,7\\xa0м²',\n",
       "       '28,5\\xa0м²', '13,9\\xa0м²', '38,6\\xa0м²', '24,5\\xa0м²', '32\\xa0м²',\n",
       "       '24,1\\xa0м²', '20,9\\xa0м²', '20,5\\xa0м²', '23,5\\xa0м²',\n",
       "       '27,5\\xa0м²', '31,4\\xa0м²', '43,4\\xa0м²', '27,3\\xa0м²',\n",
       "       '24,2\\xa0м²', '55\\xa0м²', '36\\xa0м²', '14,9\\xa0м²', '22,6\\xa0м²',\n",
       "       '17,6\\xa0м²', '21,2\\xa0м²', '34,7\\xa0м²', '34,1\\xa0м²',\n",
       "       '19,1\\xa0м²', '2,2\\xa0м²', '2,8\\xa0м²', '29,9\\xa0м²', '31,3\\xa0м²',\n",
       "       '36,9\\xa0м²', '23,8\\xa0м²', '23,7\\xa0м²', '36,8\\xa0м²',\n",
       "       '21,9\\xa0м²', '1,9\\xa0м²', '40\\xa0м²', '55,1\\xa0м²', '22,7\\xa0м²',\n",
       "       '90\\xa0м²', '46\\xa0м²', '52\\xa0м²', '3,1\\xa0м²', '23,3\\xa0м²',\n",
       "       '22,8\\xa0м²', '26,7\\xa0м²', '18,9\\xa0м²', '24,3\\xa0м²',\n",
       "       '4,6\\xa0м²', '2,3\\xa0м²', '19,7\\xa0м²', '20,4\\xa0м²'], dtype=object)"
      ]
     },
     "execution_count": 670,
     "metadata": {},
     "output_type": "execute_result"
    }
   ],
   "source": [
    "Data_Purified[\"kitchen_meters\"].unique()"
   ]
  },
  {
   "cell_type": "markdown",
   "id": "cd116e43-9caa-4058-8e5a-0e7a56452b9e",
   "metadata": {},
   "source": [
    "## Обработаем kitchen_meters"
   ]
  },
  {
   "cell_type": "code",
   "execution_count": 672,
   "id": "4538f8b5-f1aa-48f0-9bc3-b2d56d4c1c47",
   "metadata": {},
   "outputs": [],
   "source": [
    "Data_Purified[\"kitchen_meters\"] = Data_Purified[\"kitchen_meters\"].str.replace('\\xa0м²', '', regex=True).str.replace(',', '.')"
   ]
  },
  {
   "cell_type": "code",
   "execution_count": 673,
   "id": "41ffcff0-71c7-4314-bba4-390a121ff6aa",
   "metadata": {},
   "outputs": [
    {
     "data": {
      "text/plain": [
       "array(['1', '6', nan, '5', '5.6', '16', '3', '6.2', '7', '7.3', '6.1',\n",
       "       '10', '9', '8', '5.7', '11', '7.5', '13.5', '6.5', '5.8', '20',\n",
       "       '11.2', '7.8', '4', '7.9', '4.1', '12', '7.7', '8.1', '9.3',\n",
       "       '10.2', '10.6', '8.5', '9.1', '4.5', '6.7', '45', '34.3', '25.5',\n",
       "       '46.2', '4.9', '8.4', '24.9', '15', '15.8', '11.5', '5.5', '10.7',\n",
       "       '19.4', '43.8', '44.5', '22.4', '25', '28.4', '19', '21', '5.1',\n",
       "       '18.3', '3.8', '19.2', '16.2', '21.7', '12.5', '15.4', '28', '17',\n",
       "       '10.4', '13.6', '21.8', '14', '12.9', '13', '29.2', '23', '15.7',\n",
       "       '2.9', '8.2', '2.4', '20.7', '4.3', '18', '21.3', '11.6', '16.8',\n",
       "       '3.9', '9.9', '19.3', '11.3', '14.8', '17.1', '21.4', '8.9',\n",
       "       '18.2', '13.4', '16.4', '16.5', '8.7', '9.8', '10.8', '18.5',\n",
       "       '16.1', '13.2', '8.6', '4.8', '9.5', '6.3', '3.5', '43', '65',\n",
       "       '9.2', '12.7', '10.1', '7.1', '12.8', '10.5', '25.6', '6.4', '7.2',\n",
       "       '9.7', '15.2', '7.6', '9.6', '3.2', '7.4', '5.2', '6.6', '2',\n",
       "       '2.5', '3.6', '5.4', '3.3', '4.4', '16.6', '24', '15.6', '19.9',\n",
       "       '28.7', '15.3', '22', '16.7', '11.9', '12.4', '23.9', '14.3',\n",
       "       '8.8', '4.2', '22.3', '15.5', '21.5', '25.1', '10.3', '22.1', '30',\n",
       "       '11.7', '16.9', '13.3', '9.4', '32.8', '17.4', '49.2', '11.1',\n",
       "       '17.8', '12.6', '26', '8.3', '12.2', '12.3', '27', '13.8', '17.7',\n",
       "       '14.6', '31', '18.7', '29.7', '17.2', '17.9', '5.3', '27.8',\n",
       "       '11.8', '22.5', '27.4', '14.7', '6.8', '10.9', '27.6', '38',\n",
       "       '14.2', '36.2', '27.1', '29.8', '14.1', '33.4', '51.4', '5.9',\n",
       "       '26.1', '16.3', '50', '23.6', '28.1', '74', '56.4', '18.4', '53.7',\n",
       "       '35.4', '3.7', '20.1', '11.4', '20.3', '22.2', '22.9', '18.1',\n",
       "       '15.9', '14.4', '17.5', '12.1', '14.5', '3.4', '6.9', '33', '13.1',\n",
       "       '34', '35', '26.6', '23.4', '15.1', '19.8', '19.6', '24.4', '4.7',\n",
       "       '25.7', '21.6', '23.2', '28.6', '23.1', '19.5', '13.7', '18.6',\n",
       "       '17.3', '18.8', '30.7', '28.5', '13.9', '38.6', '24.5', '32',\n",
       "       '24.1', '20.9', '20.5', '23.5', '27.5', '31.4', '43.4', '27.3',\n",
       "       '24.2', '55', '36', '14.9', '22.6', '17.6', '21.2', '34.7', '34.1',\n",
       "       '19.1', '2.2', '2.8', '29.9', '31.3', '36.9', '23.8', '23.7',\n",
       "       '36.8', '21.9', '1.9', '40', '55.1', '22.7', '90', '46', '52',\n",
       "       '3.1', '23.3', '22.8', '26.7', '18.9', '24.3', '4.6', '2.3',\n",
       "       '19.7', '20.4'], dtype=object)"
      ]
     },
     "execution_count": 673,
     "metadata": {},
     "output_type": "execute_result"
    }
   ],
   "source": [
    "Data_Purified[\"kitchen_meters\"].unique()"
   ]
  },
  {
   "cell_type": "code",
   "execution_count": 674,
   "id": "2a5d7835-6842-42f6-8f5c-8d1d973fa825",
   "metadata": {},
   "outputs": [],
   "source": [
    "Data_Purified[\"kitchen_meters\"] = Data_Purified[\"kitchen_meters\"].astype(float)"
   ]
  },
  {
   "cell_type": "code",
   "execution_count": 675,
   "id": "20cb9ea1-7cd8-433c-aa3e-ff2f7ff195be",
   "metadata": {},
   "outputs": [
    {
     "data": {
      "text/plain": [
       "0        1.0\n",
       "1        6.0\n",
       "2        NaN\n",
       "3        NaN\n",
       "4        5.0\n",
       "        ... \n",
       "8388    10.5\n",
       "8389    16.1\n",
       "8390     6.0\n",
       "8391     8.0\n",
       "8392    21.4\n",
       "Name: kitchen_meters, Length: 8392, dtype: float64"
      ]
     },
     "execution_count": 675,
     "metadata": {},
     "output_type": "execute_result"
    }
   ],
   "source": [
    "Data_Purified[\"kitchen_meters\"]"
   ]
  },
  {
   "cell_type": "code",
   "execution_count": 676,
   "id": "0d1775e1-9b78-454e-90f2-e1352b013d88",
   "metadata": {},
   "outputs": [
    {
     "data": {
      "text/plain": [
       "array(['3\\xa0м', '2,7\\xa0м', nan, '3,5\\xa0м', '2,5\\xa0м', '2,9\\xa0м',\n",
       "       '2,8\\xa0м', '2,4\\xa0м', '2,6\\xa0м', '2,65\\xa0м', '2,73\\xa0м',\n",
       "       '4,6\\xa0м', '3,25\\xa0м', '2,85\\xa0м', '3,2\\xa0м', '2,64\\xa0м',\n",
       "       '3,6\\xa0м', '3,06\\xa0м', '3,1\\xa0м', '3,15\\xa0м', '3,35\\xa0м',\n",
       "       '2,92\\xa0м', '3,12\\xa0м', '5\\xa0м', '3,3\\xa0м', '2,87\\xa0м',\n",
       "       '2,95\\xa0м', '2,82\\xa0м', '2,99\\xa0м', '3,08\\xa0м', '3,4\\xa0м',\n",
       "       '3,27\\xa0м', '2,75\\xa0м', '3,9\\xa0м', '6\\xa0м', '3,43\\xa0м',\n",
       "       '2,51\\xa0м', '3,05\\xa0м', '2,78\\xa0м', '5,2\\xa0м', '2,72\\xa0м',\n",
       "       '2,63\\xa0м', '2,62\\xa0м', '2,89\\xa0м', '2,68\\xa0м', '2,66\\xa0м',\n",
       "       '3,09\\xa0м', '2,55\\xa0м', '2,84\\xa0м', '2,48\\xa0м', '4\\xa0м',\n",
       "       '2,67\\xa0м', '2,74\\xa0м', '3,59\\xa0м', '3,04\\xa0м', '2,56\\xa0м',\n",
       "       '2\\xa0м', '2,42\\xa0м', '3,02\\xa0м', '3,26\\xa0м', '4,5\\xa0м',\n",
       "       '5,7\\xa0м', '3,23\\xa0м', '3,14\\xa0м', '3,65\\xa0м', '3,03\\xa0м',\n",
       "       '3,24\\xa0м', '2,77\\xa0м', '4,2\\xa0м', '3,55\\xa0м', '2,57\\xa0м',\n",
       "       '3,31\\xa0м', '3,52\\xa0м', '3,53\\xa0м', '1,8\\xa0м', '3,74\\xa0м',\n",
       "       '2,52\\xa0м', '2,69\\xa0м', '3,75\\xa0м', '2,54\\xa0м', '2,76\\xa0м',\n",
       "       '3,45\\xa0м', '2,88\\xa0м', '2,53\\xa0м', '2,83\\xa0м', '4,4\\xa0м',\n",
       "       '2,58\\xa0м', '52\\xa0м', '2,26\\xa0м', '2,3\\xa0м', '1,65\\xa0м',\n",
       "       '3,17\\xa0м', '2,98\\xa0м', '3,72\\xa0м', '2,97\\xa0м', '3,01\\xa0м',\n",
       "       '2,71\\xa0м', '0\\xa0м', '2,7800000000000002\\xa0м', '3,36\\xa0м',\n",
       "       '3,7\\xa0м', '25\\xa0м', '9\\xa0м', '3,34\\xa0м', '5,5\\xa0м',\n",
       "       '5,1\\xa0м', '4,55\\xa0м', '2,61\\xa0м', '2,81\\xa0м', '2,2\\xa0м'],\n",
       "      dtype=object)"
      ]
     },
     "execution_count": 676,
     "metadata": {},
     "output_type": "execute_result"
    }
   ],
   "source": [
    " Data_Purified[\"ceiling_height\"].unique()"
   ]
  },
  {
   "cell_type": "markdown",
   "id": "ec83eda8-5c26-4320-8e89-c0757f90a608",
   "metadata": {},
   "source": [
    "## Обработаем ceiling_height"
   ]
  },
  {
   "cell_type": "code",
   "execution_count": 678,
   "id": "8c383339-66e3-49dc-a424-2f8a76310c48",
   "metadata": {},
   "outputs": [],
   "source": [
    "Data_Purified[\"ceiling_height\"] =  Data_Purified[\"ceiling_height\"].str.replace('\\xa0м' , \"\", regex=True).str.replace(\",\", \".\")"
   ]
  },
  {
   "cell_type": "code",
   "execution_count": 679,
   "id": "2bce7fb1-08e8-40ca-aee9-4479c9c9c0ab",
   "metadata": {},
   "outputs": [],
   "source": [
    "Data_Purified[\"ceiling_height\"] = Data_Purified[\"ceiling_height\"].astype(float)"
   ]
  },
  {
   "cell_type": "code",
   "execution_count": 680,
   "id": "096af9bd-4ecb-458f-9f8a-9f035ed945f2",
   "metadata": {},
   "outputs": [
    {
     "data": {
      "text/plain": [
       "0       3.00\n",
       "1       2.70\n",
       "2        NaN\n",
       "3        NaN\n",
       "4       3.50\n",
       "        ... \n",
       "8388     NaN\n",
       "8389    2.62\n",
       "8390     NaN\n",
       "8391    2.75\n",
       "8392    2.62\n",
       "Name: ceiling_height, Length: 8392, dtype: float64"
      ]
     },
     "execution_count": 680,
     "metadata": {},
     "output_type": "execute_result"
    }
   ],
   "source": [
    " Data_Purified[\"ceiling_height\"]"
   ]
  },
  {
   "cell_type": "markdown",
   "id": "8e1e6357-61e0-434e-b37e-a09d3ee3d90f",
   "metadata": {},
   "source": [
    "\n"
   ]
  },
  {
   "cell_type": "markdown",
   "id": "9185e719-1ebe-4b8a-b9d2-3d8661aad964",
   "metadata": {},
   "source": [
    " "
   ]
  },
  {
   "cell_type": "code",
   "execution_count": 683,
   "id": "088febbe-cc36-4ee3-9389-785fee1c39c3",
   "metadata": {},
   "outputs": [
    {
     "data": {
      "text/plain": [
       "array(['1917', '1975', nan, '1968', '2009', '1969', '1980', '1990',\n",
       "       '1964', '2025', '2015', '1970', '1984', '1965', '2010', 'Аукцион',\n",
       "       '1992', '2011', '1986', '1994', '1956', '1966', '1973', '1971',\n",
       "       '1957', '2013', '1981', '1972', '1959', '2004', '1962', '2019',\n",
       "       '1978', '1977', '2003', '1963', '1952', '2024', '2007', '1995',\n",
       "       '1976', '1982', '1953', '2008', '2026', '2023', '1941', '2028',\n",
       "       '1993', '2016', '2027', '2017', '2022', '1932', '2012', '1960',\n",
       "       '2006', '1926', '2020', '1943', '2014', '2021', '1967', '1904',\n",
       "       '1991', '2018', '1987', '1988', '1974', 'Напишите автору', '1979',\n",
       "       '1929', '1989', '1985', '1930', '2005', '1958', '1996', '1940',\n",
       "       '1948', '1961', '1938', '1997', '2002', '2001', '1999', '1983',\n",
       "       '1998', '1902', '2000', '1915', '1910', '1939', '1954', '1897',\n",
       "       '1955', '1900', 'Позвоните автору', '1949', '1947', '1901', '1909',\n",
       "       '1600', '1951', '1936', '1931', '1950', '1934', '1928', '1945',\n",
       "       '1937', '1927', '1896', '1777', '2031', '1935'], dtype=object)"
      ]
     },
     "execution_count": 683,
     "metadata": {},
     "output_type": "execute_result"
    }
   ],
   "source": [
    "Data_Purified[\"year_of_construction\"].unique()  "
   ]
  },
  {
   "cell_type": "markdown",
   "id": "d3ea002c-0936-4553-8b87-83c0e10c0283",
   "metadata": {},
   "source": [
    "## Заметим анамалии \"Аукцион, Позвоните автору, Позвоните автору\" обработаем и удалим  их \n"
   ]
  },
  {
   "cell_type": "code",
   "execution_count": null,
   "id": "c90e103d-5846-45f8-a643-5a6ee6d87c2f",
   "metadata": {},
   "outputs": [],
   "source": [
    "\n",
    "index = Data_Purified[Data_Purified[\"year_of_construction\"].isin([\"Аукцион\", \"Позвоните автору\", \"Напишите автору\"])].index"
   ]
  },
  {
   "cell_type": "code",
   "execution_count": 765,
   "id": "94ff4b24-1303-4ba6-b63b-cd7d4c9645de",
   "metadata": {},
   "outputs": [],
   "source": [
    "Data_Purified = Data_Purified.drop(index)"
   ]
  },
  {
   "cell_type": "code",
   "execution_count": 767,
   "id": "be3295eb-f644-4c04-93e0-a4e328d45365",
   "metadata": {},
   "outputs": [
    {
     "data": {
      "text/plain": [
       "array(['1917', '1975', nan, '1968', '2009', '1969', '1980', '1990',\n",
       "       '1964', '2025', '2015', '1970', '1984', '1965', '2010', '1992',\n",
       "       '2011', '1986', '1994', '1956', '1966', '1973', '1971', '1957',\n",
       "       '2013', '1981', '1972', '1959', '2004', '1962', '2019', '1978',\n",
       "       '1977', '2003', '1963', '1952', '2024', '2007', '1995', '1976',\n",
       "       '1982', '1953', '2008', '2026', '2023', '1941', '2028', '1993',\n",
       "       '2016', '2027', '2017', '2022', '1932', '2012', '1960', '2006',\n",
       "       '1926', '2020', '1943', '2014', '2021', '1967', '1904', '1991',\n",
       "       '2018', '1987', '1988', '1974', '1979', '1929', '1989', '1985',\n",
       "       '1930', '2005', '1958', '1996', '1940', '1948', '1961', '1938',\n",
       "       '1997', '2002', '2001', '1999', '1983', '1998', '1902', '2000',\n",
       "       '1915', '1910', '1939', '1954', '1897', '1955', '1900', '1949',\n",
       "       '1947', '1901', '1909', '1600', '1951', '1936', '1931', '1950',\n",
       "       '1934', '1928', '1945', '1937', '1927', '1896', '1777', '2031',\n",
       "       '1935'], dtype=object)"
      ]
     },
     "execution_count": 767,
     "metadata": {},
     "output_type": "execute_result"
    }
   ],
   "source": [
    "Data_Purified[\"year_of_construction\"].unique()"
   ]
  },
  {
   "cell_type": "code",
   "execution_count": 769,
   "id": "5e94d657-14e6-4b98-8f4a-25ce8d36111b",
   "metadata": {},
   "outputs": [],
   "source": [
    "Data_Purified[\"year_of_construction\"] = Data_Purified[\"year_of_construction\"].astype(float)"
   ]
  },
  {
   "cell_type": "markdown",
   "id": "0a231d3a-261b-4219-8a97-398c327ad27c",
   "metadata": {},
   "source": [
    " "
   ]
  },
  {
   "cell_type": "markdown",
   "id": "af609a43-1da7-4270-904d-a764fe36bc05",
   "metadata": {},
   "source": [
    " "
   ]
  },
  {
   "cell_type": "markdown",
   "id": "4754186f-f52c-4a76-be7a-bf2a6a69940b",
   "metadata": {},
   "source": [
    "## Обработаем Текстовые данные "
   ]
  },
  {
   "cell_type": "code",
   "execution_count": null,
   "id": "7db55a5c-389c-44bb-9a6b-5edee7dea6bc",
   "metadata": {},
   "outputs": [],
   "source": []
  }
 ],
 "metadata": {
  "kernelspec": {
   "display_name": "Python 3 (ipykernel)",
   "language": "python",
   "name": "python3"
  },
  "language_info": {
   "codemirror_mode": {
    "name": "ipython",
    "version": 3
   },
   "file_extension": ".py",
   "mimetype": "text/x-python",
   "name": "python",
   "nbconvert_exporter": "python",
   "pygments_lexer": "ipython3",
   "version": "3.12.4"
  }
 },
 "nbformat": 4,
 "nbformat_minor": 5
}
